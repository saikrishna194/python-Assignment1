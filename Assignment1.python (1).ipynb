{
 "cells": [
  {
   "cell_type": "markdown",
   "metadata": {},
   "source": [
    "## 1. In the below elements which of them are values or an expression? "
   ]
  },
  {
   "cell_type": "markdown",
   "metadata": {},
   "source": [
    "* -----expression\n",
    "\n",
    "'hello' ----- value\n",
    "\n",
    "-87.8 ----- value\n",
    "\n",
    "- ----- expression\n",
    "\n",
    "/ ----- expression\n",
    "\n",
    "+ ----- expression\n",
    "\n",
    "6 ----- value"
   ]
  },
  {
   "cell_type": "markdown",
   "metadata": {},
   "source": [
    "## 2.What is the difference between string and variable?"
   ]
  },
  {
   "cell_type": "markdown",
   "metadata": {},
   "source": [
    "variables are container to store data\n",
    "\n",
    "eg:x=10\n",
    "\n",
    "string is the sequene of characters that can be written in quotes\n",
    "\n",
    "eg:'shankar'.\n",
    "\n",
    "3.Describe three different data types"
   ]
  },
  {
   "cell_type": "markdown",
   "metadata": {},
   "source": [
    "## 3.Describe three different data types."
   ]
  },
  {
   "cell_type": "markdown",
   "metadata": {},
   "source": [
    "integer:integer is uesd to store only numeric values\n",
    "\n",
    "eg:2,3\n",
    "\n",
    "float:float can store only floating values\n",
    "\n",
    "eg:2.334,6.56\n",
    "\n",
    "List: list is used for storing multiple data items in single variable."
   ]
  },
  {
   "cell_type": "markdown",
   "metadata": {},
   "source": [
    "## 4. What is an expression made up of? What do all expressions do? "
   ]
  },
  {
   "cell_type": "markdown",
   "metadata": {},
   "source": [
    "experssion can be made up of values ,containers and mathematical opertaors all expresios evaluate to a single value\n",
    "\n",
    "eg: 2+3 \n",
    "and an expresssion  are uesd to evaluate the values or represnet  the result in screen"
   ]
  },
  {
   "cell_type": "markdown",
   "metadata": {},
   "source": [
    "## 5. This assignment statements, like spam = 10. What is the difference between an expression and a statement?"
   ]
  },
  {
   "cell_type": "markdown",
   "metadata": {},
   "source": [
    "expressions is combination of values ,variables,operators,and call to functions an expression need to be evaluated if you ask python to print an expression,the interpreter evaluates the expression and dispay the results\n",
    "\n",
    "eg a=2+3."
   ]
  },
  {
   "cell_type": "markdown",
   "metadata": {},
   "source": [
    "## 6.After running the following code, what does the variable bacon contain?"
   ]
  },
  {
   "attachments": {
    "Screenshot%20%28564%29.png": {
     "image/png": "[encoded data removed]"
    }
   },
   "cell_type": "markdown",
   "metadata": {},
   "source": [
    "bacon=22\n",
    "bacon+1\n",
    "sol=it gives 23 as a execution code\n",
    "![Screenshot%20%28564%29.png](attachment:Screenshot%20%28564%29.png)"
   ]
  },
  {
   "cell_type": "markdown",
   "metadata": {},
   "source": [
    "## 7.What should the values of the following two terms be?\n",
    "\n",
    "## 'spam' + 'spamspam'\n",
    "\n",
    "## 'spam' * 3"
   ]
  },
  {
   "attachments": {
    "Screenshot%20%28581%29.png": {
     "image/png": "[encoded data removed]"
    }
   },
   "cell_type": "markdown",
   "metadata": {},
   "source": [
    "it will be the same\n",
    "![Screenshot%20%28581%29.png](attachment:Screenshot%20%28581%29.png)"
   ]
  },
  {
   "cell_type": "markdown",
   "metadata": {},
   "source": [
    "## 8. Why is eggs a valid variable name while 100 is invalid?"
   ]
  },
  {
   "cell_type": "markdown",
   "metadata": {},
   "source": [
    "because we can't start giving variable an integer name.if we, should begin with,a string like alphabet name the integer\n",
    "\n",
    "eg: 100 or eggs1000 is valid"
   ]
  },
  {
   "cell_type": "markdown",
   "metadata": {},
   "source": [
    "## 9. What three functions can be used to get the integer, floating-point number, or string version of a value?"
   ]
  },
  {
   "cell_type": "markdown",
   "metadata": {},
   "source": [
    "str(),int(),float()"
   ]
  },
  {
   "cell_type": "markdown",
   "metadata": {},
   "source": [
    "## 10. Why does this expression cause an error? How can you fix it?\n",
    "\n",
    "## 'I have eaten' + 99 + 'burritos' "
   ]
  },
  {
   "cell_type": "markdown",
   "metadata": {},
   "source": [
    "becuase 99 is an interger  it cannot be concatenated with string,if we have to concatenate it we need to do  typecasting"
   ]
  }
 ],
 "metadata": {
  "kernelspec": {
   "display_name": "Python 3",
   "language": "python",
   "name": "python3"
  },
  "language_info": {
   "codemirror_mode": {
    "name": "ipython",
    "version": 3
   },
   "file_extension": ".py",
   "mimetype": "text/x-python",
   "name": "python",
   "nbconvert_exporter": "python",
   "pygments_lexer": "ipython3",
   "version": "3.8.3"
  }
 },
 "nbformat": 4,
 "nbformat_minor": 4
}
